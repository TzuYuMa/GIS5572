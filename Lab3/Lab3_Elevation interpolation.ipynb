{
 "cells": [
  {
   "cell_type": "markdown",
   "metadata": {},
   "source": [
    "# Elevation Interpolation\n",
    "## Tzu-Yu Ma\n",
    "### April 11, 2024"
   ]
  },
  {
   "cell_type": "code",
   "execution_count": 71,
   "metadata": {},
   "outputs": [],
   "source": [
    "import arcpy\n",
    "import os\n",
    "import psycopg2\n",
    "import random"
   ]
  },
  {
   "cell_type": "markdown",
   "metadata": {},
   "source": [
    "#### Workspace"
   ]
  },
  {
   "cell_type": "code",
   "execution_count": null,
   "metadata": {},
   "outputs": [],
   "source": [
    "arcpy.env.workspace = r\"D:\\spring2024\\GIS5572\\Lab3\\Lab3\\Lab3.gdb\""
   ]
  },
  {
   "cell_type": "markdown",
   "metadata": {},
   "source": [
    "#### Connect to PostGIS database"
   ]
  },
  {
   "cell_type": "code",
   "execution_count": 73,
   "metadata": {},
   "outputs": [],
   "source": [
    "# connect to PostGIS database\n",
    "conn = psycopg2.connect(\n",
    "    dbname=\"gis5572\",\n",
    "    user=\"postgres\",\n",
    "    password=\"\",\n",
    "    host=\"\",\n",
    "    port=\"5432\"\n",
    ")\n",
    "cur = conn.cursor()"
   ]
  },
  {
   "cell_type": "markdown",
   "metadata": {},
   "source": [
    "#### Prepare DEM data"
   ]
  },
  {
   "cell_type": "code",
   "execution_count": 19,
   "metadata": {},
   "outputs": [
    {
     "name": "stdout",
     "output_type": "stream",
     "text": [
      "24778\n"
     ]
    }
   ],
   "source": [
    "# Execute a query\n",
    "cur.execute(\"SELECT * FROM mndem_ponits\")\n",
    "\n",
    "# Fetch the results\n",
    "results = cur.fetchall()\n",
    "\n",
    "# Print the results\n",
    "print(len(results))\n",
    "\n",
    "# Close the cursor and connection\n",
    "cur.close()\n",
    "conn.close()"
   ]
  },
  {
   "cell_type": "code",
   "execution_count": 40,
   "metadata": {},
   "outputs": [
    {
     "data": {
      "text/html": [
       "<div class='gpresult'><h2>Messages</h2><div id='messages' data-messages='[\"Start Time: Saturday, March 30, 2024 3:19:18 PM\",\"D:\\\\spring2024\\\\GIS5572\\\\Lab2\\\\Lab2\\\\PostgreSQL-34-gis5572.sde\\\\gis5572.postgres.mndem_ponits Successfully converted:  D:\\\\spring2024\\\\GIS5572\\\\Lab3\\\\Lab3\\\\Lab3.gdb\\\\mndem_ponits\",\"Succeeded at Saturday, March 30, 2024 3:19:29 PM (Elapsed Time: 11.11 seconds)\"]' data-show='true'><div id = 'default' /></div></div>"
      ],
      "text/plain": [
       "<Result 'D:\\\\spring2024\\\\GIS5572\\\\Lab3\\\\Lab3\\\\Lab3.gdb'>"
      ]
     },
     "execution_count": 40,
     "metadata": {},
     "output_type": "execute_result"
    }
   ],
   "source": [
    "# copy the data from PostGIS database\n",
    "arcpy.conversion.FeatureClassToGeodatabase(\n",
    "    Input_Features=\"\\\\PostgreSQL-34-gis5572(postgres).sde\\gis5572.postgres.mndem_ponits\",\n",
    "    Output_Geodatabase=arcpy.env.workspace\n",
    ")"
   ]
  },
  {
   "cell_type": "markdown",
   "metadata": {},
   "source": [
    "#### Samples percentage"
   ]
  },
  {
   "cell_type": "code",
   "execution_count": 17,
   "metadata": {},
   "outputs": [
    {
     "name": "stdout",
     "output_type": "stream",
     "text": [
      "Sampled size: 2477\n"
     ]
    }
   ],
   "source": [
    "ele_data = os.path.join(arcpy.env.workspace, 'mndem_ponits')\n",
    "data = int(arcpy.GetCount_management(ele_data).getOutput(0))\n",
    "\n",
    "# define the percentage\n",
    "percentage = 10\n",
    "\n",
    "percentage_sample = int(data * percentage / 100)\n",
    "\n",
    "# create a sequence of indices from 1 to the total number of data points\n",
    "indices = list(range(1, data + 1))\n",
    "\n",
    "# sample from the indices\n",
    "sampled_indices = random.sample(indices, percentage_sample)\n",
    "\n",
    "print(\"Sampled size:\", len(sampled_indices))"
   ]
  },
  {
   "cell_type": "code",
   "execution_count": 18,
   "metadata": {},
   "outputs": [
    {
     "name": "stdout",
     "output_type": "stream",
     "text": [
      "New feature class inserted to: D:\\spring2024\\GIS5572\\Lab3\\Lab3\\Lab3.gdb\\sampled_ele\n"
     ]
    }
   ],
   "source": [
    "points = []\n",
    "with arcpy.da.SearchCursor(ele_data, [\"SHAPE@XY\", \"grid_code\"]) as cursor:\n",
    "    for row in cursor:\n",
    "        points.append(row)\n",
    "\n",
    "# random selected\n",
    "random.shuffle(points)\n",
    "\n",
    "sampled_points = points[:percentage_sample]\n",
    "\n",
    "# create a new feature class to store sampled points\n",
    "output_fc = os.path.join(arcpy.env.workspace, \"sampled_ele\")\n",
    "\n",
    "if arcpy.Exists(output_fc):\n",
    "    arcpy.Delete_management(output_fc)\n",
    "\n",
    "arcpy.CreateFeatureclass_management(out_path=arcpy.env.workspace, out_name=\"sampled_ele\", geometry_type=\"POINT\", spatial_reference=26915) #SR may need to change to 4326 \n",
    "\n",
    "arcpy.AddField_management(output_fc, \"ID\", \"LONG\")\n",
    "arcpy.AddField_management(output_fc, \"grid_code\", \"LONG\")\n",
    "\n",
    "\n",
    "# insert attribute to sampled_ele \n",
    "with arcpy.da.InsertCursor(output_fc, [\"SHAPE@XY\", \"ID\", \"grid_code\"]) as cursor:\n",
    "    for idx, point in enumerate(sampled_points):\n",
    "        x, y = point[0]\n",
    "        point_geometry = arcpy.PointGeometry(arcpy.Point(x, y))\n",
    "        cursor.insertRow([point_geometry, idx+1, point[1]])\n",
    "\n",
    "print(\"New feature class inserted to:\", output_fc)\n"
   ]
  },
  {
   "cell_type": "markdown",
   "metadata": {},
   "source": [
    "#### Interpolation algorithms results"
   ]
  },
  {
   "cell_type": "code",
   "execution_count": null,
   "metadata": {},
   "outputs": [],
   "source": [
    "# ORDINARY_KRIGING\n",
    "with arcpy.EnvManager(scratchWorkspace=arcpy.env.workspace):\n",
    "    out_surface_raster = arcpy.sa.Kriging(\n",
    "        in_point_features=\"sampled_ele\",\n",
    "        z_field=\"grid_code\",\n",
    "        kriging_model=\"Spherical 2268.000000 # # #\",\n",
    "        cell_size= \"dem_aggrega\",\n",
    "        search_radius=\"VARIABLE 12\",\n",
    "        out_variance_prediction_raster=None\n",
    "    )\n",
    "    out_surface_raster.save(arcpy.env.workspace + \"Kriging_ord\")"
   ]
  },
  {
   "cell_type": "code",
   "execution_count": null,
   "metadata": {},
   "outputs": [],
   "source": [
    "# UNIVERSAL_KRIGING\n",
    "with arcpy.EnvManager(scratchWorkspace=arcpy.env.workspace ):\n",
    "    out_surface_raster = arcpy.sa.Kriging(\n",
    "        in_point_features=\"sampled_ele\",\n",
    "        z_field=\"grid_code\",\n",
    "        kriging_model=\"LinearDrift 2268.000000 # # #\",\n",
    "        cell_size=\"dem_aggrega\",\n",
    "        search_radius=\"VARIABLE 12\",\n",
    "        out_variance_prediction_raster=None\n",
    "    )\n",
    "    out_surface_raster.save(arcpy.env.workspace + \"Kriging_uni\")"
   ]
  },
  {
   "cell_type": "code",
   "execution_count": null,
   "metadata": {},
   "outputs": [],
   "source": [
    "# IDW\n",
    "with arcpy.EnvManager(scratchWorkspace=arcpy.env.workspace):\n",
    "    out_raster = arcpy.sa.Idw(\n",
    "        in_point_features=\"sampled_ele\",\n",
    "        z_field=\"grid_code\",\n",
    "        cell_size=r\"D:\\spring2024\\GIS5572\\Lab2\\Lab2\\Lab2.gdb\\dem_aggrega\",\n",
    "        power=2,\n",
    "        search_radius=\"VARIABLE 12\",\n",
    "        in_barrier_polyline_features=None\n",
    "    )\n",
    "    out_raster.save(arcpy.env.workspace + \"\\\\Idw\")"
   ]
  },
  {
   "cell_type": "markdown",
   "metadata": {},
   "source": [
    "#### Saves the interpolate results to PostGIS"
   ]
  },
  {
   "cell_type": "code",
   "execution_count": 8,
   "metadata": {},
   "outputs": [],
   "source": [
    "def raster_pts_SDE(input_raster, output_pt_name):\n",
    "    arcpy.conversion.RasterToPoint(\n",
    "        in_raster=input_raster,\n",
    "        out_point_features=arcpy.env.workspace + \"\\\\\" + output_pt_name,\n",
    "        raster_field=\"Value\")\n",
    "    \n",
    "    arcpy.conversion.FeatureClassToGeodatabase(\n",
    "        Input_Features=arcpy.env.workspace + \"\\\\\" + output_pt_name,\n",
    "        Output_Geodatabase=\"\\\\PostgreSQL-34-gis5572(postgres).sde\")\n",
    "    \n",
    "    print(f\"{input_raster} has been converted to points and stored into SDE as {output_pt_name}.\")\n"
   ]
  },
  {
   "cell_type": "code",
   "execution_count": 9,
   "metadata": {},
   "outputs": [
    {
     "name": "stdout",
     "output_type": "stream",
     "text": [
      "Kriging_ord has been converted to points and stored into SDE as Kriging_ord_pts.\n",
      "Kriging_uni has been converted to points and stored into SDE as Kriging_uni_pts.\n",
      "Idw has been converted to points and stored into SDE as Idw_pts.\n"
     ]
    }
   ],
   "source": [
    "# ORDINARY_KRIGING\n",
    "raster_pts_SDE ('Kriging_ord', 'Kriging_ord_pts')\n",
    "\n",
    "# UNIVERSAL_KRIGING\n",
    "raster_pts_SDE ('Kriging_uni', 'Kriging_uni_pts')\n",
    "\n",
    "# IDW\n",
    "raster_pts_SDE ('Idw', 'Idw_pts')"
   ]
  },
  {
   "cell_type": "markdown",
   "metadata": {},
   "source": [
    "####  Accuracy Assessment - Model "
   ]
  },
  {
   "cell_type": "code",
   "execution_count": null,
   "metadata": {},
   "outputs": [],
   "source": [
    "# use Exploratory Interpolation to compare Ordinary Kriging, Universal Kriging, and IDW\n",
    "arcpy.ga.ExploratoryInterpolation(\n",
    "    in_features=\"sampled_ele\",\n",
    "    value_field=\"grid_code\",\n",
    "    out_cv_table=\"ExploratoryInterpolation\",\n",
    "    out_geostat_layer=None,\n",
    "    interp_methods=\"ORDINARY_KRIGING;UNIVERSAL_KRIGING;IDW\",\n",
    "    comparison_method=\"SINGLE\",\n",
    "    criterion=\"ACCURACY\",\n",
    "    criteria_hierarchy=\"ACCURACY PERCENT #\",\n",
    "    weighted_criteria=\"ACCURACY 1\",\n",
    "    exclusion_criteria=None\n",
    ")"
   ]
  },
  {
   "cell_type": "code",
   "execution_count": null,
   "metadata": {},
   "outputs": [],
   "source": [
    "# save the table into SDE\n",
    "arcpy.conversion.TableToGeodatabase(\n",
    "    Input_Table=\"ExploratoryInterpolation\",\n",
    "    Output_Geodatabase=\"\\\\PostgreSQL-34-gis5572(postgres).sde\"\n",
    ")"
   ]
  },
  {
   "cell_type": "markdown",
   "metadata": {},
   "source": [
    "#### Accuracy Assessment - Results"
   ]
  },
  {
   "cell_type": "code",
   "execution_count": 9,
   "metadata": {},
   "outputs": [],
   "source": [
    "def differences(true_dem, interpolated_dem, output):\n",
    "    # caculate original and interpolated DEMs difference\n",
    "    difference_raster = arcpy.sa.Minus(true_dem, interpolated_dem)\n",
    "    \n",
    "    # get the name of interpolation method as part of the output point layer \n",
    "    interpolation = os.path.basename(interpolated_dem)\n",
    "    \n",
    "    # define the name of the output point layer\n",
    "    difference_points = f\"diff_pts_{interpolation}\"\n",
    "    \n",
    "    # convert DEM difference to point layer\n",
    "    arcpy.RasterToPoint_conversion(difference_raster, difference_points)\n",
    "\n",
    "    # rename \"grid_code\" to \"difference\"\n",
    "    field_mapping = arcpy.FieldMappings()\n",
    "    field_mapping.addTable(difference_points)\n",
    "    for field in field_mapping.fields:\n",
    "        if field.name == \"grid_code\":\n",
    "            field.name = \"difference\"\n",
    "    arcpy.management.AlterField(difference_points, \"grid_code\", \"difference\")\n",
    "\n",
    "    print(f\"Difference {interpolation} points layer created.\")\n"
   ]
  },
  {
   "cell_type": "code",
   "execution_count": 11,
   "metadata": {},
   "outputs": [
    {
     "name": "stdout",
     "output_type": "stream",
     "text": [
      "Difference Kriging_ord points layer created.\n",
      "Difference Kriging_uni points layer created.\n",
      "Difference Idw points layer created.\n"
     ]
    }
   ],
   "source": [
    "true_dem = r\"D:\\spring2024\\GIS5572\\Lab2\\Lab2\\Lab2.gdb\\dem_aggrega\"\n",
    "output = arcpy.env.workspace\n",
    "\n",
    "# ORDINARY_KRIGING\n",
    "interpolated_dem = arcpy.env.workspace + \"\\\\Kriging_ord\"\n",
    "differences(true_dem, interpolated_dem, output)\n",
    "\n",
    "# UNIVERSAL_KRIGING\n",
    "interpolated_dem = arcpy.env.workspace + \"\\\\Kriging_uni\"\n",
    "differences(true_dem, interpolated_dem, output)\n",
    "\n",
    "# IDW\n",
    "interpolated_dem = arcpy.env.workspace + \"\\\\Idw\"\n",
    "differences(true_dem, interpolated_dem, output)"
   ]
  },
  {
   "cell_type": "markdown",
   "metadata": {},
   "source": [
    "#### store the accuracy assessment to PostGIS database"
   ]
  },
  {
   "cell_type": "code",
   "execution_count": 3,
   "metadata": {},
   "outputs": [
    {
     "data": {
      "text/html": [
       "<div class='gpresult'><h2>Messages</h2><div id='messages' data-messages='[\"Start Time: Saturday, March 30, 2024 11:48:58 PM\",\"C:\\\\Users\\\\ma000551\\\\Desktop\\\\school\\\\lab3\\\\lab3\\\\lab3.gdb\\\\diff_pts_Idw Successfully converted:  C:\\\\Users\\\\ma000551\\\\Desktop\\\\school\\\\lab3\\\\lab3\\\\34.133.74.255.sde\\\\diff_pts_Idw\",\"C:\\\\Users\\\\ma000551\\\\Desktop\\\\school\\\\lab3\\\\lab3\\\\lab3.gdb\\\\diff_pts_Kriging_uni Successfully converted:  C:\\\\Users\\\\ma000551\\\\Desktop\\\\school\\\\lab3\\\\lab3\\\\34.133.74.255.sde\\\\diff_pts_Kriging_uni\",\"C:\\\\Users\\\\ma000551\\\\Desktop\\\\school\\\\lab3\\\\lab3\\\\lab3.gdb\\\\diff_pts_Kriging_ord Successfully converted:  C:\\\\Users\\\\ma000551\\\\Desktop\\\\school\\\\lab3\\\\lab3\\\\34.133.74.255.sde\\\\diff_pts_Kriging_ord\",\"Succeeded at Sunday, March 31, 2024 12:14:31 AM (Elapsed Time: 25 minutes 33 seconds)\"]' data-show='true'><div id = 'default' /></div></div>"
      ],
      "text/plain": [
       "<Result 'C:\\\\Users\\\\ma000551\\\\Desktop\\\\school\\\\lab3\\\\lab3\\\\34.133.74.255.sde'>"
      ]
     },
     "execution_count": 3,
     "metadata": {},
     "output_type": "execute_result"
    }
   ],
   "source": [
    "arcpy.conversion.FeatureClassToGeodatabase(\n",
    "    Input_Features=\"diff_pts_Idw;diff_pts_Kriging_uni;diff_pts_Kriging_ord\",\n",
    "    Output_Geodatabase=\"\\\\PostgreSQL-34-gis5572(postgres).sde\"\n",
    ")\n"
   ]
  },
  {
   "cell_type": "markdown",
   "metadata": {},
   "source": [
    "#### Adjust data for uploading to AGOL"
   ]
  },
  {
   "cell_type": "code",
   "execution_count": null,
   "metadata": {},
   "outputs": [],
   "source": [
    "# use Using BERNOULLI sampling method to reduce the points\n",
    "cur.execute(\"CREATE TABLE sampled_idw_pts_ele AS SELECT * FROM idw_pts TABLESAMPLE BERNOULLI(1);\")\n",
    "\n",
    "# commit changes to the database\n",
    "conn.commit()\n",
    "\n",
    "# close the cursor and connectio\n",
    "cur.close()\n",
    "conn.close()"
   ]
  },
  {
   "cell_type": "code",
   "execution_count": 74,
   "metadata": {},
   "outputs": [
    {
     "name": "stdout",
     "output_type": "stream",
     "text": [
      "413\n"
     ]
    }
   ],
   "source": [
    "# check how many data after using BERNOULLI \n",
    "cur.execute(\"SELECT * FROM sampled_idw_pts_ele\")\n",
    "\n",
    "# fetch the results\n",
    "results = cur.fetchall()\n",
    "\n",
    "print(len(results))\n",
    "# close the cursor and connection\n",
    "cur.close()\n",
    "conn.close()"
   ]
  },
  {
   "cell_type": "code",
   "execution_count": null,
   "metadata": {},
   "outputs": [],
   "source": [
    "# transfer coordinate to EPSG:4326\n",
    "cur.execute(\"\"\"\n",
    "ALTER TABLE sampled_idw_pts_ele \n",
    "ALTER COLUMN shape TYPE geometry(Point, 4326) \n",
    "USING ST_Transform(shape, 4326);\n",
    "\"\"\")\n",
    "# Commit changes to the database\n",
    "conn.commit()\n",
    "\n",
    "# Close the cursor and connection\n",
    "cur.close()\n",
    "conn.close()"
   ]
  }
 ],
 "metadata": {
  "kernelspec": {
   "display_name": "ArcGISPro",
   "language": "Python",
   "name": "python3"
  },
  "language_info": {
   "file_extension": ".py",
   "name": "python",
   "version": "3"
  }
 },
 "nbformat": 4,
 "nbformat_minor": 2
}
