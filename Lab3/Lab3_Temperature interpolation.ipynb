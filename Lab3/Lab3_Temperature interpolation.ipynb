{
 "cells": [
  {
   "cell_type": "markdown",
   "metadata": {},
   "source": [
    "# Temperature Interpolation\n",
    "## Tzu-Yu Ma\n",
    "### April 11, 2024"
   ]
  },
  {
   "cell_type": "code",
   "execution_count": 1,
   "metadata": {},
   "outputs": [],
   "source": [
    "import arcpy\n",
    "import os\n",
    "import psycopg2\n",
    "import random"
   ]
  },
  {
   "cell_type": "markdown",
   "metadata": {},
   "source": [
    "#### Workspace"
   ]
  },
  {
   "cell_type": "code",
   "execution_count": null,
   "metadata": {},
   "outputs": [],
   "source": [
    "arcpy.env.workspace = r\"D:\\spring2024\\GIS5572\\Lab3\\Lab3\\Lab3.gdb\""
   ]
  },
  {
   "cell_type": "markdown",
   "metadata": {},
   "source": [
    "#### Connect to PostGIS database"
   ]
  },
  {
   "cell_type": "code",
   "execution_count": 67,
   "metadata": {},
   "outputs": [],
   "source": [
    "conn = psycopg2.connect(\n",
    "    dbname=\"gis5572\",\n",
    "    user=\"postgres\",\n",
    "    password=\"\",\n",
    "    host=\"\",\n",
    "    port=\"5432\"\n",
    ")\n",
    "cur = conn.cursor()"
   ]
  },
  {
   "cell_type": "markdown",
   "metadata": {},
   "source": [
    "#### Prepare temperature data"
   ]
  },
  {
   "cell_type": "code",
   "execution_count": 35,
   "metadata": {},
   "outputs": [
    {
     "name": "stdout",
     "output_type": "stream",
     "text": [
      "4637\n"
     ]
    }
   ],
   "source": [
    "cur.execute(\"SELECT * FROM mn_temperature\")\n",
    "\n",
    "# Fetch the results\n",
    "results = cur.fetchall()\n",
    "\n",
    "# Print the results\n",
    "print(len(results))\n",
    "# Close the cursor and connection\n",
    "cur.close()\n",
    "conn.close()"
   ]
  },
  {
   "cell_type": "markdown",
   "metadata": {},
   "source": [
    "#### Filter data"
   ]
  },
  {
   "cell_type": "code",
   "execution_count": 5,
   "metadata": {},
   "outputs": [
    {
     "data": {
      "text/html": [
       "<div class='gpresult'><h2>Messages</h2><div id='messages' data-messages='[\"Start Time: Sunday, March 31, 2024 9:27:22 AM\",\"Succeeded at Sunday, March 31, 2024 9:27:26 AM (Elapsed Time: 3.52 seconds)\"]' data-show='true'><div id = 'default' /></div></div>"
      ],
      "text/plain": [
       "<Result 'D:\\\\spring2024\\\\GIS5572\\\\Lab3\\\\Lab3\\\\Lab3.gdb\\\\mn_temp_0320'>"
      ]
     },
     "execution_count": 5,
     "metadata": {},
     "output_type": "execute_result"
    }
   ],
   "source": [
    "# select date 2023-03-20, becuase station MN006 has data since 2023-03-20\n",
    "arcpy.management.SelectLayerByAttribute('mn_temperature', 'NEW_SELECTION',\"date = date '2023-03-20'\")\n",
    "arcpy.management.CopyFeatures('mn_temperature', 'mn_temp_0320')"
   ]
  },
  {
   "cell_type": "markdown",
   "metadata": {},
   "source": [
    "#### Interpolation algorithms results"
   ]
  },
  {
   "cell_type": "code",
   "execution_count": 7,
   "metadata": {},
   "outputs": [],
   "source": [
    "# ORDINARY_KRIGING\n",
    "with arcpy.EnvManager(scratchWorkspace=arcpy.env.workspace):\n",
    "    out_surface_raster = arcpy.sa.Kriging(\n",
    "        in_point_features=\"mn_temp_0320\",\n",
    "        z_field=\"max_tmpf\",\n",
    "        kriging_model=\"Spherical # # # #\",\n",
    "        cell_size=0.0218500823959998,\n",
    "        search_radius=\"VARIABLE 12\",\n",
    "        out_variance_prediction_raster=None\n",
    "    )\n",
    "    out_surface_raster.save(arcpy.env.workspace + \"\\\\Kriging_ord_temp\")"
   ]
  },
  {
   "cell_type": "code",
   "execution_count": 9,
   "metadata": {},
   "outputs": [],
   "source": [
    "# UNIVERSAL_KRIGING\n",
    "with arcpy.EnvManager(scratchWorkspace=arcpy.env.workspace):\n",
    "    out_surface_raster = arcpy.sa.Kriging(\n",
    "        in_point_features=\"mn_temp_0320\",\n",
    "        z_field=\"max_tmpf\",\n",
    "        kriging_model=\"LinearDrift 0.021850 # # #\",\n",
    "        cell_size=0.0218500823959998,\n",
    "        search_radius=\"VARIABLE 12\",\n",
    "        out_variance_prediction_raster=None\n",
    "    )\n",
    "    out_surface_raster.save(arcpy.env.workspace + \"\\\\Kriging_uni_temp\")"
   ]
  },
  {
   "cell_type": "code",
   "execution_count": 10,
   "metadata": {},
   "outputs": [],
   "source": [
    "# IDW\n",
    "with arcpy.EnvManager(scratchWorkspace=arcpy.env.workspace):\n",
    "    out_raster = arcpy.sa.Idw(\n",
    "        in_point_features=\"mn_temp_0320\",\n",
    "        z_field=\"max_tmpf\",\n",
    "        cell_size=0.0218500823959998,\n",
    "        power=2,\n",
    "        search_radius=\"VARIABLE 12\",\n",
    "        in_barrier_polyline_features=None\n",
    "    )\n",
    "    out_raster.save(arcpy.env.workspace + \"\\\\Idw_temp\")"
   ]
  },
  {
   "cell_type": "markdown",
   "metadata": {},
   "source": [
    "#### Saves the interpolate results to PostGIS"
   ]
  },
  {
   "cell_type": "code",
   "execution_count": 2,
   "metadata": {},
   "outputs": [],
   "source": [
    "def raster_pts_SDE(input_raster, output_pt_name):\n",
    "    # convert raster to point\n",
    "    arcpy.conversion.RasterToPoint(\n",
    "        in_raster=input_raster,\n",
    "        out_point_features=arcpy.env.workspace + \"\\\\\" + output_pt_name,\n",
    "        raster_field=\"Value\")\n",
    "    # save data to PostGIS    \n",
    "    arcpy.conversion.FeatureClassToGeodatabase(\n",
    "        Input_Features=arcpy.env.workspace + \"\\\\\" + output_pt_name,\n",
    "        Output_Geodatabase=\"\\\\PostgreSQL-34-gis5572(postgres).sde\")\n",
    "    \n",
    "    print(f\"{input_raster} has been converted to points and stored into SDE as {output_pt_name}.\")\n"
   ]
  },
  {
   "cell_type": "code",
   "execution_count": 3,
   "metadata": {},
   "outputs": [
    {
     "name": "stdout",
     "output_type": "stream",
     "text": [
      "Kriging_ord_temp has been converted to points and stored into SDE as Krig_ord_pts_temp.\n",
      "Kriging_uni_temp has been converted to points and stored into SDE as Krig_uni_pts_temp.\n",
      "Idw_temp has been converted to points and stored into SDE as Idw_pts_temp.\n"
     ]
    }
   ],
   "source": [
    "# ORDINARY_KRIGING\n",
    "raster_pts_SDE ('Kriging_ord_temp', 'Krig_ord_pts_temp')\n",
    "\n",
    "# UNIVERSAL_KRIGING\n",
    "raster_pts_SDE ('Kriging_uni_temp', 'Krig_uni_pts_temp')\n",
    "\n",
    "# IDW\n",
    "raster_pts_SDE ('Idw_temp', 'Idw_pts_temp')"
   ]
  },
  {
   "cell_type": "markdown",
   "metadata": {},
   "source": [
    "####  Accuracy Assessment - Model "
   ]
  },
  {
   "cell_type": "code",
   "execution_count": 2,
   "metadata": {},
   "outputs": [
    {
     "data": {
      "text/html": [
       "<div class='gpresult'><h2>Messages</h2><div id='messages' data-messages='[\"Start Time: Sunday, March 31, 2024 12:29:08 PM\",\"Calculating Ordinary Kriging – Default\",\"Calculating Ordinary Kriging – Optimized\",\"Calculating Universal Kriging – Default\",\"Calculating Universal Kriging – Optimized\",\"Calculating Inverse Distance Weighted - Default\",\"Calculating Inverse Distance Weighted - Optimized\",\" \\n\",\"--------------------------------------------\",\"RANK | NAME\",\"--------------------------------------------\",\"\\n\",\"1    | Universal Kriging – Optimized\",\"\\n\",\"2    | Universal Kriging – Default\",\"\\n\",\"3    | Inverse Distance Weighted - Optimized\",\"\\n\",\"4    | Inverse Distance Weighted - Default\",\"\\n\",\"5    | Ordinary Kriging – Optimized\",\"\\n\",\"6    | Ordinary Kriging – Default\",\"--------------------------------------------\",\"Succeeded at Sunday, March 31, 2024 12:29:12 PM (Elapsed Time: 3.88 seconds)\"]' data-show='true'><div id = 'default' /></div></div>"
      ],
      "text/plain": [
       "<Result 'D:\\\\spring2024\\\\GIS5572\\\\Lab3\\\\Lab3\\\\Lab3.gdb\\\\ExploratoryInterpolation_temp'>"
      ]
     },
     "execution_count": 2,
     "metadata": {},
     "output_type": "execute_result"
    }
   ],
   "source": [
    "# use Exploratory Interpolation to compare Ordinary Kriging, Universal Kriging, and IDW\n",
    "arcpy.ga.ExploratoryInterpolation(\n",
    "    in_features=\"mn_temp_0320\",\n",
    "    value_field=\"max_tmpf\",\n",
    "    out_cv_table=\"ExploratoryInterpolation_temp\",\n",
    "    out_geostat_layer=None,\n",
    "    interp_methods=\"ORDINARY_KRIGING;UNIVERSAL_KRIGING;IDW\",\n",
    "    comparison_method=\"SINGLE\",\n",
    "    criterion=\"ACCURACY\",\n",
    "    criteria_hierarchy=\"ACCURACY PERCENT #\",\n",
    "    weighted_criteria=\"ACCURACY 1\",\n",
    "    exclusion_criteria=None\n",
    ")"
   ]
  },
  {
   "cell_type": "code",
   "execution_count": 4,
   "metadata": {},
   "outputs": [
    {
     "data": {
      "text/html": [
       "<div class='gpresult'><h2>Messages</h2><div id='messages' data-messages='[\"Start Time: Sunday, March 31, 2024 12:42:16 PM\",\"Converted ExploratoryInterpolation_temp to D:\\\\spring2024\\\\GIS5572\\\\Lab3\\\\Lab3\\\\\\\\PostgreSQL-34-gis5572(postgres).sde\\\\ExploratoryInterpolation_temp successfully.\",\"Succeeded at Sunday, March 31, 2024 12:42:23 PM (Elapsed Time: 7.87 seconds)\"]' data-show='true'><div id = 'default' /></div></div>"
      ],
      "text/plain": [
       "<Result 'D:\\\\spring2024\\\\GIS5572\\\\Lab3\\\\Lab3\\\\PostgreSQL-34-gis5572(postgres).sde'>"
      ]
     },
     "execution_count": 4,
     "metadata": {},
     "output_type": "execute_result"
    }
   ],
   "source": [
    "# save the table into SDE\n",
    "arcpy.conversion.TableToGeodatabase(\n",
    "    Input_Table=\"ExploratoryInterpolation_temp\",\n",
    "    Output_Geodatabase=\"\\\\PostgreSQL-34-gis5572(postgres).sde\"\n",
    ")"
   ]
  },
  {
   "cell_type": "markdown",
   "metadata": {},
   "source": [
    "#### Accuracy Assessment - Results"
   ]
  },
  {
   "cell_type": "code",
   "execution_count": 22,
   "metadata": {},
   "outputs": [],
   "source": [
    "def differences_temp(true_points, interpolated_points):\n",
    "    \n",
    "    # get the name of interpolation method as part of the output point layer \n",
    "    interpolation = os.path.basename(interpolated_points)\n",
    "    \n",
    "    # spatal join\n",
    "    output_join = f\"diff_{interpolation}\"\n",
    "    arcpy.analysis.SpatialJoin(true_points, interpolated_points, output_join, \"JOIN_ONE_TO_ONE\", \"KEEP_ALL\", \"\", \"CLOSEST\")\n",
    "\n",
    "    # rename column\n",
    "    arcpy.management.AlterField(output_join, \"max_tmpf\", \"ground_truth\", \"ground_truth\")\n",
    "    arcpy.management.AlterField(output_join, \"grid_code\", \"prediction\", \"prediction\")\n",
    "\n",
    "    # calculate difference\n",
    "    fields = [\"station\", \"ground_truth\", \"prediction\", \"difference\"]\n",
    "    arcpy.management.AddField(output_join, \"difference\", \"DOUBLE\")\n",
    "    with arcpy.da.UpdateCursor(output_join, fields) as cursor:\n",
    "        for row in cursor:\n",
    "            row[3] = row[1] - row[2]  # \"ground_truth\" - \"prediction\"\n",
    "            cursor.updateRow(row)\n",
    "    arcpy.management.DeleteField(output_join,\"Join_Count;TARGET_FID;date;min_tmpf;name;pointid\",\"DELETE_FIELDS\")\n",
    "\n",
    "    print(f\"Difference {interpolation} points layer created.\")\n"
   ]
  },
  {
   "cell_type": "code",
   "execution_count": 24,
   "metadata": {},
   "outputs": [
    {
     "name": "stdout",
     "output_type": "stream",
     "text": [
      "Difference Krig_ord_pts_temp points layer created.\n",
      "Difference Krig_uni_pts_temp points layer created.\n",
      "Difference Idw_pts_temp points layer created.\n"
     ]
    }
   ],
   "source": [
    "true_points = \"mn_temp_0320\"\n",
    "\n",
    "# ORDINARY_KRIGING\n",
    "differences_temp(true_points, \"Krig_ord_pts_temp\")\n",
    "# UNIVERSAL_KRIGING\n",
    "differences_temp(true_points, \"Krig_uni_pts_temp\")\n",
    "# IDW\n",
    "differences_temp(true_points, \"Idw_pts_temp\")"
   ]
  },
  {
   "cell_type": "markdown",
   "metadata": {},
   "source": [
    "#### store the accuracy assessment to PostGIS database"
   ]
  },
  {
   "cell_type": "code",
   "execution_count": 25,
   "metadata": {},
   "outputs": [
    {
     "data": {
      "text/html": [
       "<div class='gpresult'><h2>Messages</h2><div id='messages' data-messages='[\"Start Time: Sunday, March 31, 2024 2:02:01 PM\",\"diff_Krig_ord_pts_temp Successfully converted:  D:\\\\spring2024\\\\GIS5572\\\\Lab3\\\\Lab3\\\\\\\\PostgreSQL-34-gis5572(postgres).sde\\\\diff_Krig_ord_pts_temp\",\"diff_Krig_uni_pts_temp Successfully converted:  D:\\\\spring2024\\\\GIS5572\\\\Lab3\\\\Lab3\\\\\\\\PostgreSQL-34-gis5572(postgres).sde\\\\diff_Krig_uni_pts_temp\",\"diff_Idw_pts_temp Successfully converted:  D:\\\\spring2024\\\\GIS5572\\\\Lab3\\\\Lab3\\\\\\\\PostgreSQL-34-gis5572(postgres).sde\\\\diff_Idw_pts_temp\",\"Succeeded at Sunday, March 31, 2024 2:02:54 PM (Elapsed Time: 52.66 seconds)\"]' data-show='true'><div id = 'default' /></div></div>"
      ],
      "text/plain": [
       "<Result 'D:\\\\spring2024\\\\GIS5572\\\\Lab3\\\\Lab3\\\\PostgreSQL-34-gis5572(postgres).sde'>"
      ]
     },
     "execution_count": 25,
     "metadata": {},
     "output_type": "execute_result"
    }
   ],
   "source": [
    "# store the accuracy assessment to PostGIS database\n",
    "arcpy.conversion.FeatureClassToGeodatabase(\n",
    "    Input_Features=\"diff_Krig_ord_pts_temp;diff_Krig_uni_pts_temp;diff_Idw_pts_temp\",\n",
    "    Output_Geodatabase=\"\\\\PostgreSQL-34-gis5572(postgres).sde\"\n",
    ")\n"
   ]
  },
  {
   "cell_type": "markdown",
   "metadata": {},
   "source": [
    "#### Adjust data for uploading to AGOL"
   ]
  },
  {
   "cell_type": "code",
   "execution_count": 62,
   "metadata": {},
   "outputs": [],
   "source": [
    "# use BERNOULLI sampling method to reduce the points\n",
    "cur.execute(\"CREATE TABLE sampled_idw_pts_temp AS SELECT * FROM idw_pts_temp TABLESAMPLE BERNOULLI(1)\")\n",
    "\n",
    "# commit changes to the database\n",
    "conn.commit()\n",
    "\n",
    "# close the cursor and connection\n",
    "cur.close()\n",
    "conn.close()"
   ]
  },
  {
   "cell_type": "code",
   "execution_count": 64,
   "metadata": {},
   "outputs": [
    {
     "name": "stdout",
     "output_type": "stream",
     "text": [
      "813\n"
     ]
    }
   ],
   "source": [
    "# check how many data after using BERNOULLI \n",
    "cur.execute(\"SELECT * FROM postgres.sampled_idw_pts_temp\")\n",
    "\n",
    "# fetch the results\n",
    "results = cur.fetchall()\n",
    "\n",
    "print(len(results))\n",
    "# close the cursor and connection\n",
    "cur.close()\n",
    "conn.close()"
   ]
  },
  {
   "cell_type": "code",
   "execution_count": 68,
   "metadata": {},
   "outputs": [],
   "source": [
    "# transfer coordinate to EPSG:4326\n",
    "cur.execute(\"\"\"\n",
    "ALTER TABLE sampled_idw_pts_temp \n",
    "ALTER COLUMN shape TYPE geometry(Point, 4326) \n",
    "USING ST_Transform(shape, 4326);\n",
    "\"\"\")\n",
    "# Commit changes to the database\n",
    "conn.commit()\n",
    "\n",
    "# Close the cursor and connection\n",
    "cur.close()\n",
    "conn.close()"
   ]
  }
 ],
 "metadata": {
  "kernelspec": {
   "display_name": "ArcGISPro",
   "language": "Python",
   "name": "python3"
  },
  "language_info": {
   "file_extension": ".py",
   "name": "python",
   "version": "3"
  }
 },
 "nbformat": 4,
 "nbformat_minor": 2
}
