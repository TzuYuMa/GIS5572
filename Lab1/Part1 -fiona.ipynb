{
 "cells": [
  {
   "cell_type": "code",
   "execution_count": 1,
   "id": "739e42d5-942d-4f70-a359-f653fb54cf96",
   "metadata": {},
   "outputs": [],
   "source": [
    "import fiona\n",
    "import shapely\n",
    "import geopandas as gpd"
   ]
  },
  {
   "cell_type": "markdown",
   "id": "c6911f1e-b4fc-4790-8323-7bcc6d3abb43",
   "metadata": {},
   "source": [
    "create a feature class"
   ]
  },
  {
   "cell_type": "code",
   "execution_count": 5,
   "id": "17248f84-543a-455f-8839-2c384ac33026",
   "metadata": {},
   "outputs": [],
   "source": [
    "schema = {\n",
    "    'geometry': 'Point',\n",
    "    'properties': {'id': 'int', 'name': 'str'}\n",
    "}\n",
    "\n",
    "with fiona.open('point_empty.shp', 'w', driver='ESRI Shapefile', schema=schema, crs='EPSG:4326') as shp:\n",
    "\n",
    "    pass  "
   ]
  },
  {
   "cell_type": "markdown",
   "id": "06519321-f9e4-4fb9-ba48-f01b8e8fcafe",
   "metadata": {},
   "source": [
    "Add points to a feature class"
   ]
  },
  {
   "cell_type": "code",
   "execution_count": 11,
   "id": "97fd8802-c057-4f48-9beb-0d20ca4e8339",
   "metadata": {},
   "outputs": [],
   "source": [
    "\n",
    "with fiona.open('point_empty.shp', 'w', driver='ESRI Shapefile', schema=schema, crs='EPSG:4326') as shp:\n",
    "    # add a point\n",
    "    point1 = {\n",
    "        'type': 'Feature',\n",
    "        'geometry': {'type': 'Point', 'coordinates': (0, 0)},\n",
    "        'properties': {'id': 1, 'name': 'Point1'}\n",
    "    }\n",
    "    shp.write(point1)\n",
    "    \n",
    "    point2 = {\n",
    "        'type': 'Feature',\n",
    "        'geometry': {'type': 'Point', 'coordinates':(1,1)},\n",
    "        'properties': {'id': 2, 'name': 'Point2'}\n",
    "    }\n",
    "    shp.write(point2)"
   ]
  },
  {
   "cell_type": "markdown",
   "id": "f3ce8639-4e0b-4e3d-b7e5-4cb509140379",
   "metadata": {},
   "source": [
    "Add line to a feature class"
   ]
  },
  {
   "cell_type": "code",
   "execution_count": 13,
   "id": "c0652628-fdef-419d-bf20-a129e6ca49a3",
   "metadata": {},
   "outputs": [
    {
     "name": "stdout",
     "output_type": "stream",
     "text": [
      "ok\n"
     ]
    }
   ],
   "source": [
    "# create line schema\n",
    "schema = {\n",
    "    'geometry': 'LineString',\n",
    "    'properties': {'id': 'int', 'name': 'str'}\n",
    "}\n",
    "\n",
    
    "with fiona.open('line_empty.shp', 'w', driver='ESRI Shapefile', schema=schema, crs='EPSG:4326') as shp:\n",
    
    "    line1 = {\n",
    "        'type': 'Feature',\n",
    "        'geometry': {'type': 'LineString', 'coordinates': [(0, 0), (1, 1), (2, 2)]},  \n",
    "        'properties': {'id': 1, 'name': 'Line 1'}\n",
    "    }\n",
    "    shp.write(line1)\n",
    "    \n",
    "    line2 = {\n",
    "        'type': 'Feature',\n",
    "        'geometry': {'type': 'LineString', 'coordinates': [(1, 2), (3, 4), (5, 6)]},  \n",
    "        'properties': {'id': 2, 'name': 'Line 2'}\n",
    "    }\n",
    "    shp.write(line2)\n",
    "\n",
    "print(\"ok\")\n"
   ]
  },
  {
   "cell_type": "markdown",
   "id": "0d2af324-01c6-4c39-a6c5-8c47b83fbc6f",
   "metadata": {},
   "source": [
    "Add polygons to a feature class"
   ]
  },
  {
   "cell_type": "code",
   "execution_count": 15,
   "id": "dd654fdd-6f12-49b3-8017-e70b6ef2cafc",
   "metadata": {},
   "outputs": [
    {
     "name": "stdout",
     "output_type": "stream",
     "text": [
      "ok\n"
     ]
    }
   ],
   "source": [
    "# create polygon schema\n",
    "schema = {\n",
    "    'geometry': 'Polygon',\n",
    "    'properties': {'id': 'int', 'name': 'str'}\n",
    "}\n",
    "\n",
    "",
    "with fiona.open('area_empty.shp', 'w', driver='ESRI Shapefile', schema=schema, crs='EPSG:4326') as shp:\n",
    "   \n",
    "    area1 = {\n",
    "        'type': 'Feature',\n",
    "        'geometry': {'type': 'Polygon', 'coordinates': [[(0, 0), (1, 1), (2, 2)]]}, \n",
    "        'properties': {'id': 1, 'name': 'Area 1'}\n",
    "    }\n",
    "    shp.write(area1)\n",
    "    \n",
    "    area2 = {\n",
    "        'type': 'Feature',\n",
    "        'geometry': {'type': 'Polygon', 'coordinates': [[(1, 2), (3, 4), (5, 6)]]},  \n",
    "        'properties': {'id': 2, 'name': 'Area 2'}\n",
    "    }\n",
    "    shp.write(area2)\n",
    "\n",
    "print(\"ok\")\n"
   ]
  },
  {
   "cell_type": "markdown",
   "id": "78ef8a38-fbfb-4725-af85-b3b175ba57f2",
   "metadata": {},
   "source": [
    "View each row in an attribute table for a feature class"
   ]
  },
  {
   "cell_type": "code",
   "execution_count": 18,
   "id": "d9a32eb3-f53f-4ba8-9c4c-285630552f15",
   "metadata": {},
   "outputs": [
    {
     "data": {
      "text/html": [
       "<div>\n",
       "<style scoped>\n",
       "    .dataframe tbody tr th:only-of-type {\n",
       "        vertical-align: middle;\n",
       "    }\n",
       "\n",
       "    .dataframe tbody tr th {\n",
       "        vertical-align: top;\n",
       "    }\n",
       "\n",
       "    .dataframe thead th {\n",
       "        text-align: right;\n",
       "    }\n",
       "</style>\n",
       "<table border=\"1\" class=\"dataframe\">\n",
       "  <thead>\n",
       "    <tr style=\"text-align: right;\">\n",
       "      <th></th>\n",
       "      <th>id</th>\n",
       "      <th>name</th>\n",
       "      <th>geometry</th>\n",
       "    </tr>\n",
       "  </thead>\n",
       "  <tbody>\n",
       "    <tr>\n",
       "      <th>0</th>\n",
       "      <td>1</td>\n",
       "      <td>Point1</td>\n",
       "      <td>POINT (0.00000 0.00000)</td>\n",
       "    </tr>\n",
       "    <tr>\n",
       "      <th>1</th>\n",
       "      <td>2</td>\n",
       "      <td>Point2</td>\n",
       "      <td>POINT (1.00000 1.00000)</td>\n",
       "    </tr>\n",
       "  </tbody>\n",
       "</table>\n",
       "</div>"
      ],
      "text/plain": [
       "   id    name                 geometry\n",
       "0   1  Point1  POINT (0.00000 0.00000)\n",
       "1   2  Point2  POINT (1.00000 1.00000)"
      ]
     },
     "execution_count": 18,
     "metadata": {},
     "output_type": "execute_result"
    }
   ],
   "source": [
    "gdf = gpd.read_file('../arcll/point_empty.shp')\n",
    "\n",
    "gdf"
   ]
  },
  {
   "cell_type": "markdown",
   "id": "79864363-7c76-4dfa-b927-a3cb5c9dd660",
   "metadata": {},
   "source": [
    "View each geometry object in a feature class"
   ]
  },
  {
   "cell_type": "code",
   "execution_count": 20,
   "id": "e2259b27-933a-45d5-aeb8-fff446e25788",
   "metadata": {},
   "outputs": [
    {
     "name": "stdout",
     "output_type": "stream",
     "text": [
      "POINT (0 0)\n",
      "POINT (1 1)\n"
     ]
    }
   ],
   "source": [
    "gdf = gpd.read_file('../arcll/point_empty.shp')\n",
    "\n",
    "for idx, row in gdf.iterrows():\n",
    "    print(row['geometry'])"
   ]
  },
  {
   "cell_type": "markdown",
   "id": "66fbed7a-1416-4d78-8672-28a9bf463ec2",
   "metadata": {},
   "source": [
    "Summarize the contents of a feature class"
   ]
  },
  {
   "cell_type": "code",
   "execution_count": 21,
   "id": "0262a6f2-0c59-4769-a5b8-5c3f00b62083",
   "metadata": {},
   "outputs": [
    {
     "name": "stdout",
     "output_type": "stream",
     "text": [
      "{'properties': OrderedDict([('id', 'int:18'), ('name', 'str:80')]), 'geometry': 'Point'}\n"
     ]
    }
   ],
   "source": [
    "with fiona.open('../arcll/point_empty.shp', 'r') as c:\n",
    "     print(c.schema) "
   ]
  },
  {
   "cell_type": "markdown",
   "id": "e9623605-3bc2-45bf-88e0-f56c605b7779",
   "metadata": {},
   "source": [
    "Export to shapefile"
   ]
  },
  {
   "cell_type": "code",
   "execution_count": 24,
   "id": "5d9ad268-5c93-498d-833b-f8f76b9d5114",
   "metadata": {},
   "outputs": [],
   "source": [
    "gdf.to_file('../arcll/point_output.shp')"
   ]
  },
  {
   "cell_type": "markdown",
   "id": "445f66f9-8858-46c5-9736-404b4e601596",
   "metadata": {},
   "source": [
    "Export to geodatabase"
   ]
  },
  {
   "cell_type": "code",
   "execution_count": null,
   "id": "bdd97f7d-044e-4b87-94d5-ed9bc5804ea8",
   "metadata": {},
   "outputs": [],
   "source": [
    "gdf = gpd.read_file('../arcll/gdf_output.shp')\n",
    "\n",
    "# output GDB\n",
    "output_gdb = \"Lab1_output.gdb\"\n",
    "output_fc_name = \"point_output_fiona\"\n",
    "\n",
    "gdf.to_file(output_gdb, layer=output_fc_name, driver=\"FileGDB\")\n"
   ]
  },
  {
   "cell_type": "code",
   "execution_count": 26,
   "id": "83fab30e-7b2f-45b9-88fe-d129a3272585",
   "metadata": {},
   "outputs": [
    {
     "data": {
      "text/plain": [
       "{'ARCGEN': 'r',\n",
       " 'DXF': 'rw',\n",
       " 'CSV': 'raw',\n",
       " 'OpenFileGDB': 'r',\n",
       " 'ESRIJSON': 'r',\n",
       " 'ESRI Shapefile': 'raw',\n",
       " 'FlatGeobuf': 'rw',\n",
       " 'GeoJSON': 'raw',\n",
       " 'GeoJSONSeq': 'rw',\n",
       " 'GPKG': 'raw',\n",
       " 'GML': 'rw',\n",
       " 'OGR_GMT': 'rw',\n",
       " 'GPX': 'rw',\n",
       " 'GPSTrackMaker': 'rw',\n",
       " 'Idrisi': 'r',\n",
       " 'MapInfo File': 'raw',\n",
       " 'DGN': 'raw',\n",
       " 'PCIDSK': 'rw',\n",
       " 'OGR_PDS': 'r',\n",
       " 'S57': 'r',\n",
       " 'SQLite': 'raw',\n",
       " 'TopoJSON': 'r'}"
      ]
     },
     "execution_count": 26,
     "metadata": {},
     "output_type": "execute_result"
    }
   ],
   "source": [
    "fiona.supported_drivers"
   ]
  },
  {
   "cell_type": "code",
   "execution_count": null,
   "id": "26e7198a-da20-42ca-8c8b-341299009f15",
   "metadata": {},
   "outputs": [],
   "source": []
  }
 ],
 "metadata": {
  "kernelspec": {
   "display_name": "Python 3 (ipykernel)",
   "language": "python",
   "name": "python3"
  },
  "language_info": {
   "codemirror_mode": {
    "name": "ipython",
    "version": 3
   },
   "file_extension": ".py",
   "mimetype": "text/x-python",
   "name": "python",
   "nbconvert_exporter": "python",
   "pygments_lexer": "ipython3",
   "version": "3.9.7"
  }
 },
 "nbformat": 4,
 "nbformat_minor": 5
}
