{
 "cells": [
  {
   "cell_type": "markdown",
   "metadata": {},
   "source": [
    "### Pipeline"
   ]
  },
  {
   "cell_type": "markdown",
   "metadata": {},
   "source": [
    "#### create a polygon using arcpy geometry primitives"
   ]
  },
  {
   "cell_type": "code",
   "execution_count": 13,
   "metadata": {},
   "outputs": [],
   "source": [
    "import arcpy\n",
    "import psycopg2\n",
    "from psycopg2 import sql\n",
    "import requests"
   ]
  },
  {
   "cell_type": "code",
   "execution_count": 19,
   "metadata": {},
   "outputs": [],
   "source": [
    "# create points \n",
    "points = [\n",
    "    arcpy.Point(-93.23454288744209, 44.9730581479119),\n",
    "    arcpy.Point(-93.23454288744209, 44.97105520487412),\n",
    "    arcpy.Point(-93.23081572654691, 44.97105520487412),\n",
    "    arcpy.Point(-93.23081572654691, 44.9730581479119),\n",
    "]\n",
    "\n",
    "# create polygon\n",
    "polygon = arcpy.Polygon(arcpy.Array(points), sr)\n",
    "\n",
    "# assign SR\n",
    "sr = arcpy.SpatialReference(4326)\n",
    "\n",
    "polygon_geometry = polygon.getPart(0)\n",
    "polygon_geometry.spatialReference = sr"
   ]
  },
  {
   "cell_type": "markdown",
   "metadata": {},
   "source": [
    "#### convert it to WKT"
   ]
  },
  {
   "cell_type": "code",
   "execution_count": 20,
   "metadata": {},
   "outputs": [
    {
     "data": {
      "text/plain": [
       "'MULTIPOLYGON (((-93.234542886999975 44.973058148000064, -93.234542886999975 44.971055205000027, -93.230815726999936 44.971055205000027, -93.230815726999936 44.973058148000064, -93.234542886999975 44.973058148000064)))'"
      ]
     },
     "execution_count": 20,
     "metadata": {},
     "output_type": "execute_result"
    }
   ],
   "source": [
    "polygon_wkt = polygon.WKT\n",
    "polygon_wkt"
   ]
  },
  {
   "cell_type": "markdown",
   "metadata": {},
   "source": [
    "### use psycopg2 to import the polygon to PostGIS database"
   ]
  },
  {
   "cell_type": "code",
   "execution_count": 6,
   "metadata": {},
   "outputs": [],
   "source": [
    "# connect to PostGIS database\n",
    "connection = psycopg2.connect(\n",
    "    database=\"*\",\n",
    "    user=\"*\",\n",
    "    password=\"*\",\n",
    "    host=\"*\"\n",
    ")"
   ]
  },
  {
   "cell_type": "code",
   "execution_count": null,
   "metadata": {},
   "outputs": [],
   "source": [
    "# create a cursor object\n",
    "cursor = connection.cursor()\n",
    "\n",
    "# Create the table with geometry column accepting MultiPolygon\n",
    "table = sql.SQL(\"CREATE TABLE IF NOT EXISTS polygon_lab1 (id SERIAL PRIMARY KEY, geometry GEOMETRY)\")\n",
    "cursor.execute(table)\n",
    "\n",
    "# Alter the table to accept MultiPolygon geometries\n",
    "alter_table = sql.SQL(\n",
    "    \"ALTER TABLE polygon_lab1 ALTER COLUMN geometry TYPE geometry(MultiPolygon, 4326) USING geometry::geometry(MultiPolygon, 4326)\"\n",
    ")\n",
    "cursor.execute(alter_table)\n",
    "\n",
    "# Set up WKT format and insert the geometry with SRID assignment\n",
    "insert_query = sql.SQL(\"INSERT INTO polygon_lab1 (geometry) VALUES (ST_SetSRID(ST_GeomFromText('{}'), 4326))\").format(sql.Literal(polygon_wkt))\n",
    "cursor.execute(insert_query)\n",
    "\n",
    "# End the cursor instance properly by invoking the close method\n",
    "cursor.close()\n"
   ]
  },
  {
   "cell_type": "code",
   "execution_count": 37,
   "metadata": {},
   "outputs": [
    {
     "name": "stdout",
     "output_type": "stream",
     "text": [
      "Number of polygons in 'polygon_lab1': 1\n"
     ]
    }
   ],
   "source": [
    "# check if the polygon has successfuly created\n",
    "\n",
    "cursor.execute(\"SELECT COUNT(*) FROM polygon_lab1\")\n",
    "count = cursor.fetchone()[0]\n",
    "print(\"Number of polygons in 'polygon_lab1':\", count)\n"
   ]
  },
  {
   "cell_type": "markdown",
   "metadata": {},
   "source": [
    "#### import the polygon as a content layer into ArcOnline"
   ]
  },
  {
   "cell_type": "code",
   "execution_count": 6,
   "metadata": {},
   "outputs": [],
   "source": [
    "# Save the dictionary as a JSON file\n",
    "with open(r'D:\\spring2024\\GIS5572\\Lab1\\geojson_polygon.geojson', 'w') as json_file:\n",
    "    json.dump(json_obj_2, json_file)"
   ]
  },
  {
   "cell_type": "code",
   "execution_count": 7,
   "metadata": {},
   "outputs": [
    {
     "name": "stderr",
     "output_type": "stream",
     "text": [
      "Setting `verify_cert` to False is a security risk, use at your own risk.\n"
     ]
    },
    {
     "ename": "Exception",
     "evalue": "Unable to publish item.\nUser 'TzuyuMa' does not have publishing privileges.\n(Error Code: 400)",
     "output_type": "error",
     "traceback": [
      "\u001b[0;31m---------------------------------------------------------------------------\u001b[0m\n\u001b[0;31mException\u001b[0m                                 Traceback (most recent call last)",
      "In  \u001b[0;34m[7]\u001b[0m:\nLine \u001b[0;34m12\u001b[0m:    feature_layer_item = item.publish()\u001b[37m\u001b[39;49;00m\n",
      "File \u001b[0;34mC:\\Users\\ponypony\\AppData\\Local\\ESRI\\conda\\envs\\arcgispro-py3-clone\\lib\\site-packages\\arcgis\\gis\\__init__.py\u001b[0m, in \u001b[0;32mpublish\u001b[0m:\nLine \u001b[0;34m15986\u001b[0m: ret = \u001b[36mself\u001b[39;49;00m._portal.publish_item(\u001b[37m\u001b[39;49;00m\n",
      "File \u001b[0;34mC:\\Users\\ponypony\\AppData\\Local\\ESRI\\conda\\envs\\arcgispro-py3-clone\\lib\\site-packages\\arcgis\\gis\\_impl\\_portalpy.py\u001b[0m, in \u001b[0;32mpublish_item\u001b[0m:\nLine \u001b[0;34m503\u001b[0m:   resp = \u001b[36mself\u001b[39;49;00m.con.post(path, postdata, files)\u001b[37m\u001b[39;49;00m\n",
      "File \u001b[0;34mC:\\Users\\ponypony\\AppData\\Local\\ESRI\\conda\\envs\\arcgispro-py3-clone\\lib\\site-packages\\arcgis\\gis\\_impl\\_con\\_connection.py\u001b[0m, in \u001b[0;32mpost\u001b[0m:\nLine \u001b[0;34m1524\u001b[0m:  \u001b[34mreturn\u001b[39;49;00m \u001b[36mself\u001b[39;49;00m._handle_response(\u001b[37m\u001b[39;49;00m\n",
      "File \u001b[0;34mC:\\Users\\ponypony\\AppData\\Local\\ESRI\\conda\\envs\\arcgispro-py3-clone\\lib\\site-packages\\arcgis\\gis\\_impl\\_con\\_connection.py\u001b[0m, in \u001b[0;32m_handle_response\u001b[0m:\nLine \u001b[0;34m1000\u001b[0m:  \u001b[36mself\u001b[39;49;00m._handle_json_error(data[\u001b[33m\"\u001b[39;49;00m\u001b[33merror\u001b[39;49;00m\u001b[33m\"\u001b[39;49;00m], errorcode)\u001b[37m\u001b[39;49;00m\n",
      "File \u001b[0;34mC:\\Users\\ponypony\\AppData\\Local\\ESRI\\conda\\envs\\arcgispro-py3-clone\\lib\\site-packages\\arcgis\\gis\\_impl\\_con\\_connection.py\u001b[0m, in \u001b[0;32m_handle_json_error\u001b[0m:\nLine \u001b[0;34m1023\u001b[0m:  \u001b[34mraise\u001b[39;49;00m \u001b[36mException\u001b[39;49;00m(errormessage)\u001b[37m\u001b[39;49;00m\n",
      "\u001b[0;31mException\u001b[0m: Unable to publish item.\nUser 'TzuyuMa' does not have publishing privileges.\n(Error Code: 400)\n\u001b[0;31m---------------------------------------------------------------------------\u001b[0m"
     ]
    }
   ],
   "source": [
    "import arcpy\n",
    "from arcgis.gis import GIS\n",
    "from arcgis.features import FeatureLayerCollection\n",
    "\n",
    "# Connect to your ArcGIS Online organization\n",
    "gis = GIS(None,'TzuyuMa', '*', verify_cert=False)\n",
    "\n",
    "# Upload the GeoJSON file as a new item\n",
    "item = gis.content.add({'type': 'GeoJson'}, 'D:\\spring2024\\GIS5572\\Lab1\\geojson_polygon.geojson')\n",
    "\n",
    "# Publish the new item as a feature layer\n",
    "feature_layer_item = item.publish()\n",
    "\n",
    "# Get the feature layer URL and print it\n",
    "feature_layer_url = feature_layer_item.url\n",
    "print(feature_layer_url)"
   ]
  },
  {
   "cell_type": "markdown",
   "metadata": {},
   "source": [
    "#### request the geojson"
   ]
  },
  {
   "cell_type": "code",
   "execution_count": 7,
   "metadata": {},
   "outputs": [
    {
     "data": {
      "text/plain": [
       "<Response [200]>"
      ]
     },
     "execution_count": 7,
     "metadata": {},
     "output_type": "execute_result"
    }
   ],
   "source": [
    "url = r'http://34.85.193.144:5000/getgeojson'\n",
    "response = requests.get(url)   \n",
    "response"
   ]
  },
  {
   "cell_type": "code",
   "execution_count": 8,
   "metadata": {},
   "outputs": [
    {
     "name": "stdout",
     "output_type": "stream",
     "text": [
      "ok\n"
     ]
    }
   ],
   "source": [
    "#unpack request as json\n",
    "with open (r'D:\\spring2024\\GIS5572\\Lab1\\geojson_polygon.geojson', 'w') as file:\n",
    "    file.write(str(response.json()))\n",
    "    print('ok')"
   ]
  }
 ],
 "metadata": {
  "kernelspec": {
   "display_name": "ArcGISPro",
   "language": "Python",
   "name": "python3"
  },
  "language_info": {
   "file_extension": ".py",
   "name": "python",
   "version": "3"
  }
 },
 "nbformat": 4,
 "nbformat_minor": 2
}
