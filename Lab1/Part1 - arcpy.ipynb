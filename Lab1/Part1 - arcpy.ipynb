{
 "cells": [
  {
   "cell_type": "markdown",
   "metadata": {},
   "source": [
    "### Instruction Set - Arcpy"
   ]
  },
  {
   "cell_type": "code",
   "execution_count": 1,
   "metadata": {},
   "outputs": [],
   "source": [
    "import arcpy"
   ]
  },
  {
   "cell_type": "code",
   "execution_count": 2,
   "metadata": {},
   "outputs": [],
   "source": [
    "arcpy.env.workspace = \"D:\\spring2024\\GIS5572\\Lab1\\Lab1\\Lab1.gdb\""
   ]
  },
  {
   "cell_type": "markdown",
   "metadata": {},
   "source": [
    "create a feature class"
   ]
  },
  {
   "cell_type": "code",
   "execution_count": 54,
   "metadata": {},
   "outputs": [
    {
     "data": {
      "text/html": [
       "<div class='gpresult'><h2>Messages</h2><div id='messages' data-messages='[\"Start Time: Friday, February 9, 2024 12:45:42 PM\",\"Succeeded at Friday, February 9, 2024 12:45:42 PM (Elapsed Time: 0.42 seconds)\"]' data-show='true'><div id = 'default' /></div></div>"
      ],
      "text/plain": [
       "<Result 'D:\\\\spring2024\\\\GIS5572\\\\Lab1\\\\Lab1\\\\point_empty.shp'>"
      ]
     },
     "execution_count": 54,
     "metadata": {},
     "output_type": "execute_result"
    }
   ],
   "source": [
    "outpur_path = r\"D:\\spring2024\\GIS5572\\Lab1\\Lab1\"\n",
    "sr = arcpy.SpatialReference(4326)\n",
    "\n",
    "arcpy.management.CreateFeatureclass(outpur_path, \"point_empty.shp\", \"point\", spatial_reference=sr)"
   ]
  },
  {
   "cell_type": "code",
   "execution_count": 57,
   "metadata": {},
   "outputs": [
    {
     "data": {
      "text/html": [
       "<div class='gpresult'><h2>Messages</h2><div id='messages' data-messages='[\"Start Time: Friday, February 9, 2024 1:49:33 PM\",\"Succeeded at Friday, February 9, 2024 1:49:34 PM (Elapsed Time: 0.64 seconds)\"]' data-show='true'><div id = 'default' /></div></div>"
      ],
      "text/plain": [
       "<Result 'D:\\\\spring2024\\\\GIS5572\\\\Lab1\\\\Lab1\\\\line_empty.shp'>"
      ]
     },
     "execution_count": 57,
     "metadata": {},
     "output_type": "execute_result"
    }
   ],
   "source": [
    "outpur_path = r\"D:\\spring2024\\GIS5572\\Lab1\\Lab1\"\n",
    "sr = arcpy.SpatialReference(4326)\n",
    "\n",
    "arcpy.management.CreateFeatureclass(outpur_path, \"line_empty.shp\", \"polyline\", spatial_reference=sr)"
   ]
  },
  {
   "cell_type": "code",
   "execution_count": 58,
   "metadata": {},
   "outputs": [
    {
     "data": {
      "text/html": [
       "<div class='gpresult'><h2>Messages</h2><div id='messages' data-messages='[\"Start Time: Friday, February 9, 2024 1:49:34 PM\",\"Succeeded at Friday, February 9, 2024 1:49:35 PM (Elapsed Time: 0.18 seconds)\"]' data-show='true'><div id = 'default' /></div></div>"
      ],
      "text/plain": [
       "<Result 'D:\\\\spring2024\\\\GIS5572\\\\Lab1\\\\Lab1\\\\area_empty.shp'>"
      ]
     },
     "execution_count": 58,
     "metadata": {},
     "output_type": "execute_result"
    }
   ],
   "source": [
    "outpur_path = r\"D:\\spring2024\\GIS5572\\Lab1\\Lab1\"\n",
    "sr = arcpy.SpatialReference(4326)\n",
    "\n",
    "arcpy.management.CreateFeatureclass(outpur_path, \"area_empty.shp\", \"polygon\", spatial_reference=sr)"
   ]
  },
  {
   "cell_type": "markdown",
   "metadata": {},
   "source": [
    "Add points to a feature class"
   ]
  },
  {
   "cell_type": "code",
   "execution_count": 12,
   "metadata": {},
   "outputs": [
    {
     "data": {
      "text/html": [
       "<div class='gpresult'><h2>Messages</h2><div id='messages' data-messages='[\"Start Time: Friday, February 9, 2024 11:16:29 AM\",\"Succeeded at Friday, February 9, 2024 11:16:30 AM (Elapsed Time: 0.75 seconds)\"]' data-show='true'><div id = 'default' /></div></div>"
      ],
      "text/plain": [
       "<Result 'D:\\\\spring2024\\\\GIS5572\\\\Lab1\\\\Lab1\\\\Lab1.gdb\\\\point'>"
      ]
     },
     "execution_count": 12,
     "metadata": {},
     "output_type": "execute_result"
    }
   ],
   "source": [
    "arcpy.management.CreateFeatureclass(arcpy.env.workspace, \"point\",\"point\")"
   ]
  },
  {
   "cell_type": "code",
   "execution_count": 13,
   "metadata": {},
   "outputs": [],
   "source": [
    "fc_name = \"point\"\n",
    "fc_path = arcpy.env.workspace + \"\\\\\" + fc_name\n",
    "\n",
    "point_array = arcpy.Array([arcpy.Point(459111.6681, 5010433.1285),\n",
    "                     arcpy.Point(472516.3818, 5001431.0808),\n",
    "                     arcpy.Point(477710.8185, 4986587.1063)])\n",
    "\n",
    "with arcpy.da.InsertCursor(fc_path, ['SHAPE@XY']) as cursor:\n",
    "    for point in point_array:\n",
    "        cursor.insertRow([point])"
   ]
  },
  {
   "cell_type": "markdown",
   "metadata": {},
   "source": [
    "Add line to a feature class"
   ]
  },
  {
   "cell_type": "code",
   "execution_count": 18,
   "metadata": {},
   "outputs": [
    {
     "data": {
      "text/html": [
       "<div class='gpresult'><h2>Messages</h2><div id='messages' data-messages='[\"Start Time: Friday, February 9, 2024 11:21:40 AM\",\"Succeeded at Friday, February 9, 2024 11:21:40 AM (Elapsed Time: 0.43 seconds)\"]' data-show='true'><div id = 'default' /></div></div>"
      ],
      "text/plain": [
       "<Result 'D:\\\\spring2024\\\\GIS5572\\\\Lab1\\\\Lab1\\\\Lab1.gdb\\\\line'>"
      ]
     },
     "execution_count": 18,
     "metadata": {},
     "output_type": "execute_result"
    }
   ],
   "source": [
    "arcpy.management.CreateFeatureclass(arcpy.env.workspace, \"line\",\"polyline\")"
   ]
  },
  {
   "cell_type": "code",
   "execution_count": 19,
   "metadata": {},
   "outputs": [],
   "source": [
    "fc_name = \"line\"\n",
    "fc_path = arcpy.env.workspace + \"\\\\\" + fc_name\n",
    "\n",
    "point_array = arcpy.Array([arcpy.Point(459111.6681, 5010433.1285),\n",
    "                     arcpy.Point(472516.3818, 5001431.0808),\n",
    "                     arcpy.Point(477710.8185, 4986587.1063)])\n",
    "\n",
    "polyline = arcpy.Polyline(point_array)\n",
    "\n",
    "#polyline\n",
    "        \n",
    "with arcpy.da.InsertCursor(fc_path, ['SHAPE@']) as cursor:\n",
    "    cursor.insertRow([polyline])        "
   ]
  },
  {
   "cell_type": "markdown",
   "metadata": {},
   "source": [
    "Add polygons to a feature class"
   ]
  },
  {
   "cell_type": "code",
   "execution_count": 21,
   "metadata": {},
   "outputs": [
    {
     "data": {
      "text/html": [
       "<div class='gpresult'><h2>Messages</h2><div id='messages' data-messages='[\"Start Time: Friday, February 9, 2024 11:27:38 AM\",\"Succeeded at Friday, February 9, 2024 11:27:38 AM (Elapsed Time: 0.42 seconds)\"]' data-show='true'><div id = 'default' /></div></div>"
      ],
      "text/plain": [
       "<Result 'D:\\\\spring2024\\\\GIS5572\\\\Lab1\\\\Lab1\\\\Lab1.gdb\\\\area'>"
      ]
     },
     "execution_count": 21,
     "metadata": {},
     "output_type": "execute_result"
    }
   ],
   "source": [
    "arcpy.management.CreateFeatureclass(arcpy.env.workspace, \"area\",\"polygon\")"
   ]
  },
  {
   "cell_type": "code",
   "execution_count": 23,
   "metadata": {},
   "outputs": [],
   "source": [
    "fc_name = \"area\"\n",
    "fc_path = arcpy.env.workspace + \"\\\\\" + fc_name\n",
    "\n",
    "point_array = arcpy.Array([arcpy.Point(459111.6681, 5010433.1285),\n",
    "                     arcpy.Point(472516.3818, 5001431.0808),\n",
    "                     arcpy.Point(477710.8185, 4986587.1063)])\n",
    "\n",
    "polygon = arcpy.Polygon(point_array)\n",
    "\n",
    "with arcpy.da.InsertCursor(fc_path, ['SHAPE@']) as cursor:\n",
    "    cursor.insertRow([polygon])   \n"
   ]
  },
  {
   "cell_type": "markdown",
   "metadata": {},
   "source": [
    "View each row in an attribute table for a feature class"
   ]
  },
  {
   "cell_type": "code",
   "execution_count": 26,
   "metadata": {},
   "outputs": [
    {
     "name": "stdout",
     "output_type": "stream",
     "text": [
      "(1, (459111.6680908203, 5010433.128479004))\n",
      "(2, (472516.38189697266, 5001431.080871582))\n",
      "(3, (477710.8184814453, 4986587.106323242))\n"
     ]
    }
   ],
   "source": [
    "fc_name = \"point\"\n",
    "fc_path = arcpy.env.workspace + \"\\\\\" + fc_name\n",
    "\n",
    "with arcpy.da.SearchCursor(fc_path, \"*\") as cursor: \n",
    "    for row in cursor: \n",
    "        print(row)"
   ]
  },
  {
   "cell_type": "markdown",
   "metadata": {},
   "source": [
    "View each geometry object in a feature class"
   ]
  },
  {
   "cell_type": "code",
   "execution_count": 29,
   "metadata": {},
   "outputs": [
    {
     "name": "stdout",
     "output_type": "stream",
     "text": [
      "POINT (459111.66809082031 5010433.1284790039)\n",
      "POINT (472516.38189697266 5001431.080871582)\n",
      "POINT (477710.81848144531 4986587.1063232422)\n"
     ]
    }
   ],
   "source": [
    "fc_name = \"point\"\n",
    "fc_path = arcpy.env.workspace + \"\\\\\" + fc_name\n",
    "\n",
    "points = []\n",
    "\n",
    "with arcpy.da.SearchCursor(fc_path, ['SHAPE@WKT']) as cursor:\n",
    "    for row in cursor:\n",
    "\n",
    "        geometry = row[0]\n",
    "        points.append(geometry)\n",
    "\n",
    "for point in points:\n",
    "    print(point)"
   ]
  },
  {
   "cell_type": "markdown",
   "metadata": {},
   "source": [
    "Summarize the contents of a feature class"
   ]
  },
  {
   "cell_type": "code",
   "execution_count": 39,
   "metadata": {},
   "outputs": [
    {
     "name": "stdout",
     "output_type": "stream",
     "text": [
      "Feature class name: point\n",
      "Feature type: Point\n",
      "Spatial reference: Unknown\n",
      " Fields: OBJECTID\n",
      " Fields: Shape\n"
     ]
    }
   ],
   "source": [
    "fc_name = \"point\"\n",
    "fc_path = arcpy.env.workspace + \"\\\\\" + fc_name\n",
    "\n",
    "desc = arcpy.Describe(fc_path)\n",
    "\n",
    "print(\"Feature class name:\", desc.name)\n",
    "print(\"Feature type:\", desc.shapeType)\n",
    "print(\"Spatial reference:\", desc.spatialReference.name)\n",
    "for field in desc.fields:\n",
    "    print(\" Fields:\", field.name)\n",
    "\n"
   ]
  },
  {
   "cell_type": "markdown",
   "metadata": {},
   "source": [
    "Export to shapefile"
   ]
  },
  {
   "cell_type": "code",
   "execution_count": 42,
   "metadata": {},
   "outputs": [
    {
     "data": {
      "text/html": [
       "<div class='gpresult'><h2>Messages</h2><div id='messages' data-messages='[\"Start Time: Friday, February 9, 2024 11:50:28 AM\",\"Succeeded at Friday, February 9, 2024 11:50:29 AM (Elapsed Time: 0.25 seconds)\"]' data-show='true'><div id = 'default' /></div></div>"
      ],
      "text/plain": [
       "<Result 'D:\\\\spring2024\\\\GIS5572\\\\Lab1\\\\Lab1\\\\point.shp'>"
      ]
     },
     "execution_count": 42,
     "metadata": {},
     "output_type": "execute_result"
    }
   ],
   "source": [
    "fc_name = \"point\"\n",
    "fc_path = arcpy.env.workspace + \"\\\\\" + fc_name\n",
    "output_path = r\"D:\\spring2024\\GIS5572\\Lab1\\Lab1\"\n",
    "\n",
    "arcpy.conversion.FeatureClassToFeatureClass(fc_path, output_path, \"point.shp\")"
   ]
  },
  {
   "cell_type": "markdown",
   "metadata": {},
   "source": [
    "Export to geodatabase"
   ]
  },
  {
   "cell_type": "code",
   "execution_count": 44,
   "metadata": {},
   "outputs": [
    {
     "data": {
      "text/html": [
       "<div class='gpresult'><h2>Messages</h2><div id='messages' data-messages='[\"Start Time: Friday, February 9, 2024 11:56:19 AM\",\"point.shp Successfully converted:  D:\\\\spring2024\\\\GIS5572\\\\Lab1\\\\Lab1\\\\Lab1.gdb\\\\point\",\"Succeeded at Friday, February 9, 2024 11:56:20 AM (Elapsed Time: 1.36 seconds)\"]' data-show='true'><div id = 'default' /></div></div>"
      ],
      "text/plain": [
       "<Result 'D:\\\\spring2024\\\\GIS5572\\\\Lab1\\\\Lab1\\\\Lab1.gdb'>"
      ]
     },
     "execution_count": 44,
     "metadata": {},
     "output_type": "execute_result"
    }
   ],
   "source": [
    "output_path = arcpy.env.workspace\n",
    "\n",
    "# Export to GDB\n",
    "arcpy.conversion.FeatureClassToGeodatabase(\"point.shp\", output_path)"
   ]
  }
 ],
 "metadata": {
  "kernelspec": {
   "display_name": "ArcGISPro",
   "language": "Python",
   "name": "python3"
  },
  "language_info": {
   "file_extension": ".py",
   "name": "python",
   "version": "3"
  }
 },
 "nbformat": 4,
 "nbformat_minor": 2
}
